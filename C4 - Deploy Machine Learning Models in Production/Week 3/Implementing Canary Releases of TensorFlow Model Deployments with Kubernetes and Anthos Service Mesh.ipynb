{
 "cells": [
  {
   "attachments": {},
   "cell_type": "markdown",
   "metadata": {},
   "source": [
    "### Task 1. Set up your project\n",
    "  + Start by getting the lab files from GitHub:\n",
    "   ```\n",
    "    cd\n",
    "    SRC_REPO=https://github.com/GoogleCloudPlatform/mlops-on-gcp\n",
    "    kpt pkg get $SRC_REPO/workshops/mlep-qwiklabs/tfserving-canary-gke tfserving-canary\n",
    "   ```"
   ]
  },
  {
   "cell_type": "code",
   "execution_count": null,
   "metadata": {},
   "outputs": [],
   "source": [
    "# Configure environment variables\n",
    "export PROJECT_ID=$(gcloud config get-value project)\n",
    "export PROJECT_NUMBER=$(gcloud projects describe ${PROJECT_ID} \\\n",
    "    --format=\"value(projectNumber)\")\n",
    "export CLUSTER_NAME=cluster-1\n",
    "export CLUSTER_ZONE=us-west1-c\n",
    "export WORKLOAD_POOL=${PROJECT_ID}.svc.id.goog\n",
    "export MESH_ID=\"proj-${PROJECT_NUMBER}\""
   ]
  },
  {
   "cell_type": "code",
   "execution_count": null,
   "metadata": {},
   "outputs": [],
   "source": [
    "# Task 2. Set up your GKE cluster\n",
    "# Now run the following command in Cloud Shell to create the Kubernetes cluster cluster-1:\n",
    "gcloud config set compute/zone ${CLUSTER_ZONE}\n",
    "gcloud beta container clusters create ${CLUSTER_NAME} \\\n",
    "    --machine-type=n1-standard-4 \\\n",
    "    --num-nodes=6 \\\n",
    "    --workload-pool=${WORKLOAD_POOL} \\\n",
    "    --logging=SYSTEM,WORKLOAD \\\n",
    "    --monitoring=SYSTEM \\\n",
    "    --subnetwork=default \\\n",
    "    --release-channel=stable \\\n",
    "    --labels mesh_id=${MESH_ID}\n",
    "# After your cluster is created, run this command to ensure you have the cluster-admin role on your cluster:\n",
    "kubectl create clusterrolebinding cluster-admin-binding   --clusterrole=cluster-admin   --user=$(whoami)@qwiklabs.net"
   ]
  },
  {
   "cell_type": "code",
   "execution_count": null,
   "metadata": {},
   "outputs": [],
   "source": [
    "# Prepare to install Anthos Service Mesh\n",
    "curl https://storage.googleapis.com/csm-artifacts/asm/asmcli_1.15 > asmcli\n",
    "# Make the script executable:\n",
    "chmod +x asmcli\n",
    "# Install Anthos Service Mesh\n",
    "./asmcli install \\\n",
    "  --project_id $PROJECT_ID \\\n",
    "  --cluster_name $CLUSTER_NAME \\\n",
    "  --cluster_location $CLUSTER_ZONE \\\n",
    "  --fleet_id $PROJECT_ID \\\n",
    "  --output_dir ./asm_output \\\n",
    "  --enable_all \\\n",
    "  --option legacy-default-ingressgateway \\\n",
    "  --ca mesh_ca \\\n",
    "  --enable_gcp_components\n",
    "# Task 3. Install an ingress gateway\n",
    "# #1. Create a namespace for the ingress gateway if you don't already have one. \n",
    "# Gateways are user workloads, and as a best practice, they shouldn't be deployed\n",
    "#  in the control plane namespace.\n",
    "GATEWAY_NS=istio-gateway\n",
    "kubectl create namespace $GATEWAY_NS"
   ]
  }
 ],
 "metadata": {
  "language_info": {
   "name": "python"
  },
  "orig_nbformat": 4
 },
 "nbformat": 4,
 "nbformat_minor": 2
}
